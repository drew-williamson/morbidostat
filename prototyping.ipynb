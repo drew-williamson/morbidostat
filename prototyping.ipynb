{
 "cells": [
  {
   "cell_type": "code",
   "execution_count": 1,
   "metadata": {},
   "outputs": [],
   "source": [
    "import time\n",
    "import RPi.GPIO as GPIO\n",
    "import Adafruit_ADS1x15"
   ]
  },
  {
   "cell_type": "code",
   "execution_count": 3,
   "metadata": {},
   "outputs": [],
   "source": [
    "adc = Adafruit_ADS1x15.ADS1015()\n",
    "GPIO.setmode(GPIO.BCM)\n",
    "GPIO.setup(4, GPIO.OUT)"
   ]
  },
  {
   "cell_type": "code",
   "execution_count": 21,
   "metadata": {},
   "outputs": [],
   "source": [
    "GPIO.output(4, 1)\n",
    "time.sleep(10)\n",
    "GPIO.output(4, 0)"
   ]
  },
  {
   "cell_type": "code",
   "execution_count": 7,
   "metadata": {},
   "outputs": [
    {
     "name": "stdout",
     "output_type": "stream",
     "text": [
      "280\n"
     ]
    }
   ],
   "source": [
    "value = adc.read_adc(0)\n",
    "print(value)"
   ]
  },
  {
   "cell_type": "code",
   "execution_count": 23,
   "metadata": {},
   "outputs": [
    {
     "name": "stdout",
     "output_type": "stream",
     "text": [
      "-683\n",
      "-157\n",
      "-638\n",
      "-160\n",
      "-680\n",
      "-1\n",
      "-184\n",
      "-680\n",
      "-521\n",
      "-468\n"
     ]
    }
   ],
   "source": [
    "for x in range(10):\n",
    "    time.sleep(1)\n",
    "    value = adc.read_adc(3, gain=8)\n",
    "    value = value\n",
    "    print(value)\n",
    "    if value > -400:\n",
    "        GPIO.output(4, 1)\n",
    "    else:\n",
    "        GPIO.output(4, 0)\n",
    "GPIO.output(4, 0)"
   ]
  },
  {
   "cell_type": "code",
   "execution_count": 13,
   "metadata": {},
   "outputs": [],
   "source": [
    "GPIO.output(4, 0)"
   ]
  },
  {
   "cell_type": "code",
   "execution_count": null,
   "metadata": {},
   "outputs": [],
   "source": []
  }
 ],
 "metadata": {
  "kernelspec": {
   "display_name": "Python 3",
   "language": "python",
   "name": "python3"
  },
  "language_info": {
   "codemirror_mode": {
    "name": "ipython",
    "version": 3
   },
   "file_extension": ".py",
   "mimetype": "text/x-python",
   "name": "python",
   "nbconvert_exporter": "python",
   "pygments_lexer": "ipython3",
   "version": "3.5.2"
  }
 },
 "nbformat": 4,
 "nbformat_minor": 2
}
